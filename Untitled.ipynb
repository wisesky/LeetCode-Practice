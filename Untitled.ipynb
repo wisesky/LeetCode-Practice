{
 "cells": [
  {
   "cell_type": "code",
   "execution_count": 1,
   "metadata": {
    "collapsed": true
   },
   "outputs": [],
   "source": [
    "import requests"
   ]
  },
  {
   "cell_type": "code",
   "execution_count": 10,
   "metadata": {},
   "outputs": [
    {
     "data": {
      "text/plain": [
       "200"
      ]
     },
     "execution_count": 10,
     "metadata": {},
     "output_type": "execute_result"
    }
   ],
   "source": [
    "url = 'https://weibo.com/p/1004061195242865?is_hot=1'\n",
    "headers = { \n",
    "    'User-Agent': 'Mozilla/5.0 (iPhone; CPU iPhone OS 11_0 like Mac OS X) AppleWebKit/604.1.38 (KHTML, like Gecko) Version/11.0 Mobile/15A372 Safari/604.1'\n",
    "}\n",
    "r = requests.get(url, headers = headers)\n",
    "#r = requests.get(url)\n",
    "r.status_code"
   ]
  },
  {
   "cell_type": "code",
   "execution_count": 19,
   "metadata": {},
   "outputs": [
    {
     "data": {
      "text/plain": [
       "200"
      ]
     },
     "execution_count": 19,
     "metadata": {},
     "output_type": "execute_result"
    }
   ],
   "source": [
    "url = 'https://www.zhihu.com/collection/45762052'\n",
    "headers = { \n",
    "          #'Cookie': '_zap=10dab966-db96-4de1-99a6-0266ae5d4ab6; aliyungf_tc=AQAAAJZVAhr57gcASt6sO15mcZIW7wal; d_c0=\"ADBCFWjOHAyPTk4aUPde7j_5jhGsgRKqgN0=|1500871586\"; q_c1=6f6abcc0ba1c46bbb030c47050c9cefc|1505702526000|1500281405000; s-t=autocomplete; s-q=python%20%E7%88%AC%E8%99%AB%20%E7%9F%A5%E4%B9%8E%20%E5%A6%B9%E5%AD%90; s-i=1; sid=alethept; _ga=GA1.2.1346991877.1510909211; _xsrf=b69050a6-fbde-4ea3-88fa-9c90222f6031; __DAYU_PP=RY7ERVqvjv6aqbUqBEJu639250fbddd2; l_n_c=1; n_c=1; tst=r; __gads=ID=788788c77093badd:T=1539588617:S=ALNI_MbbEZ-J8uMu04VSyLoeDf7gkmJjxA; q_c1=582e777d39e94338bd3265d0aeed99b2|1540887048000|1500281405000; tgw_l7_route=9553ebf607071b8b9dd310a140c349c5; l_cap_id=\"YTU4YjQ3NGQ2MjMyNGZkZGE1NzEyYTlhZGRkYTkxNjg=|1540887829|e93402e5782813cec604501482bf6c537863e591\"; r_cap_id=\"ODM1NTU0ZThjNTU3NDA4Nzg2ZjkwNTkzODUxZTNmZmU=|1540887829|fbccf178414c0c6a20a15c3cd6529d88f7fe3dda\"; cap_id=\"ZGU4NzM1ZmM1ZWM0NDlmY2IyMWRkY2U4Mzc1MGRjN2U=|1540887829|fcb2417c31415f738c62bc2eb9381c83612a6923\"; capsion_ticket=\"2|1:0|10:1540888019|14:capsion_ticket|44:MTA2YWUwYjAwNGZkNGIzYmI5NzM3NDcyZTMzODFjNjg=|66d3d790c7574d0794354bcc710fb6dc9701470a3337eac7c3201ca0fac2e1a3\"; z_c0=\"2|1:0|10:1540888023|4:z_c0|92:Mi4xQS1FbUJnQUFBQUFBTUVJVmFNNGNEQ1lBQUFCZ0FsVk4xMlBGWEFDMXpyZzJCbHo2S1BNUUt6eUplNEhiYndTVTVB|37afd1ee8d6ce48825378d95b2416cd8580de7a48a782c02bcd490eac212edd3\"; __utma=51854390.1346991877.1510909211.1540888040.1540888040.1; __utmb=51854390.0.10.1540888040; __utmc=51854390; __utmz=51854390.1540888040.1.1.utmcsr=(direct)|utmccn=(direct)|utmcmd=(none); __utmv=51854390.100--|2=registration_date=20171009=1^3=entry_date=20170717=1' , \n",
    "          'Accept': 'text/html,application/xhtml+xml,application/xml;q=0.9,*/*;q=0.8' ,\n",
    "          'Accept-Encoding': 'gzip, deflate' ,\n",
    "          'User-Agent': 'Mozilla/5.0 (Macintosh; Intel Mac OS X 10_12_6) AppleWebKit/604.1.38 (KHTML, like Gecko) Version/11.0 Safari/604.1.38' ,   \n",
    "}\n",
    "r = requests.get(url, headers=headers)\n",
    "#r = requests.get(url)\n",
    "r.status_code"
   ]
  },
  {
   "cell_type": "code",
   "execution_count": 22,
   "metadata": {},
   "outputs": [
    {
     "data": {
      "text/plain": [
       "{'Date': 'Tue, 30 Oct 2018 08:50:32 GMT', 'Content-Type': 'text/html; charset=utf-8', 'Transfer-Encoding': 'chunked', 'Connection': 'keep-alive', 'Vary': 'Accept-Encoding', 'Set-Cookie': '_zap=73ef7fd3-f922-4485-9ee5-bc267377e2a4; path=/; expires=Thu, 29 Oct 2020 08:50:32 GMT; domain=.zhihu.com', 'Content-Security-Policy': \"default-src * blob:; img-src * data: blob:; connect-src * wss:; frame-src 'self' *.zhihu.com weixin: *.vzuu.com getpocket.com note.youdao.com safari-extension://com.evernote.safari.clipper-Q79WDW8YH9 zhihujs: captcha.guard.qcloud.com; script-src 'self' blob: *.zhihu.com res.wx.qq.com 'unsafe-eval' unpkg.zhimg.com unicom.zhimg.com captcha.gtimg.com captcha.guard.qcloud.com pagead2.googlesyndication.com i.hao61.net; style-src 'self' 'unsafe-inline' *.zhihu.com unicom.zhimg.com captcha.gtimg.com\", 'X-Frame-Options': 'SAMEORIGIN', 'Strict-Transport-Security': 'max-age=15552000; includeSubDomains', 'Surrogate-Control': 'no-store', 'Cache-Control': 'no-store, no-cache, must-revalidate, proxy-revalidate', 'Pragma': 'no-cache', 'Expires': '0', 'X-Content-Type-Options': 'nosniff', 'X-XSS-Protection': '1; mode=block', 'X-Backend-Server': 'heifetz.heifetz.41a523b8---10.70.5.7:31016[10.70.5.7:31016]', 'Content-Encoding': 'gzip', 'Server': 'ZWS'}"
      ]
     },
     "execution_count": 22,
     "metadata": {},
     "output_type": "execute_result"
    }
   ],
   "source": [
    "r.headers"
   ]
  },
  {
   "cell_type": "code",
   "execution_count": null,
   "metadata": {
    "collapsed": true
   },
   "outputs": [],
   "source": []
  }
 ],
 "metadata": {
  "kernelspec": {
   "display_name": "Python 3",
   "language": "python",
   "name": "python3"
  },
  "language_info": {
   "codemirror_mode": {
    "name": "ipython",
    "version": 3
   },
   "file_extension": ".py",
   "mimetype": "text/x-python",
   "name": "python",
   "nbconvert_exporter": "python",
   "pygments_lexer": "ipython3",
   "version": "3.6.1"
  }
 },
 "nbformat": 4,
 "nbformat_minor": 2
}
